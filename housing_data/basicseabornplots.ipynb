{
 "cells": [
  {
   "cell_type": "markdown",
   "metadata": {},
   "source": [
    "# Simple Seaborn Plots!\n",
    "Welcome, jupyter notebooks are an amazing way to learn programming and to program in general, so I decided I would make you one!\n",
    "\n",
    "We'll be using the basic housing prices dataset from Kaggle in this notebook.\n",
    "\n",
    "Be sure to have Pandas and Seaborn installed in your environment, otherwise, this notebook won't be of any use to you.\n"
   ]
  },
  {
   "cell_type": "code",
   "execution_count": null,
   "metadata": {},
   "outputs": [],
   "source": [
    "import pandas as pd\n",
    "import seaborn as sns\n",
    "\n",
    "df = pd.read_csv(\"data.csv\")  # If your data is in a different directory or your file has a different name, don't forget to specify the path here!"
   ]
  },
  {
   "cell_type": "markdown",
   "metadata": {},
   "source": [
    "#### Let's set up some options!\n"
   ]
  },
  {
   "cell_type": "code",
   "execution_count": null,
   "metadata": {},
   "outputs": [],
   "source": [
    "# Allow us to see all columns when we print the dataframe\n",
    "pd.set_option(\"display.max_columns\", None) # Instead of None, you can specify the exact number of columns you want to see, however I recommend using None, so you will see all the columns.\n",
    "\n",
    "# Set the default seaborn theme\n",
    "sns.set_theme(style=\"whitegrid\")  # You can try changing this to any of the other seaborn themes! (darkgrid, whitegrid, dark, white, ticks)"
   ]
  },
  {
   "cell_type": "markdown",
   "metadata": {},
   "source": [
    "#### Now, we can take a look at our data!"
   ]
  },
  {
   "cell_type": "code",
   "execution_count": null,
   "metadata": {},
   "outputs": [],
   "source": [
    "df.head(10)  # Print the first 10 rows of the dataframe\n"
   ]
  },
  {
   "cell_type": "code",
   "execution_count": null,
   "metadata": {},
   "outputs": [],
   "source": [
    "df.describe()  # Print summary statistics for the dataframe\n"
   ]
  },
  {
   "cell_type": "code",
   "execution_count": null,
   "metadata": {},
   "outputs": [],
   "source": [
    "df.info(verbose=True)  # Print information about the dataframe"
   ]
  },
  {
   "cell_type": "markdown",
   "metadata": {},
   "source": [
    "\n",
    "\n",
    "\n",
    "#### Now, after inspecting what our dataframe is about, we can start making plots to better understand it!\n",
    "## Categorical Plots\n",
    "Firstly, you may want to take a look at the distribution of data of a categorical variable, and probably even across two categorical variables.\n",
    "\n",
    "An amazing and simple plot to do that is the countplot()!"
   ]
  },
  {
   "cell_type": "code",
   "execution_count": null,
   "metadata": {},
   "outputs": [],
   "source": [
    "sns.countplot(x=\"LandContour\", data=df)  # Plot a countplot for the LandContour column, feel free to change this to any other column you want to plot a countplot for!"
   ]
  },
  {
   "cell_type": "markdown",
   "metadata": {},
   "source": [
    "We can see, that by far the most common \"level of flatness\" is a simply a flat property, with banked, depression, and hillslide land contours being quite infrequent.\n",
    "\n",
    "Let's look how that distributes across the LotShape property!"
   ]
  },
  {
   "cell_type": "code",
   "execution_count": null,
   "metadata": {},
   "outputs": [],
   "source": [
    "sns.countplot(x=\"LandContour\", hue=\"LotShape\", data=df)  # Plot a countplot for the LotShape column, but this time, split the data by the LandSlope column    "
   ]
  },
  {
   "cell_type": "markdown",
   "metadata": {},
   "source": [
    "Well, what an interesting insight! We can see, that IR2 and IR3 land slopes are very infrequent, as they are almost invisible here, \n",
    "however, we can also see that with depressed or hillslide land contours, IR1 lot shapes are a lot more common!\n",
    "\n",
    "Let's now look at some other plots!\n",
    "## Numerical Variables\n",
    "You probably want to see the distribution of values of SalePrice, since that is what you are most likely going to want to predict.\n",
    "\n",
    "Great plot just for that is the `kdeplot()` and `histplot()`!"
   ]
  },
  {
   "cell_type": "code",
   "execution_count": null,
   "metadata": {},
   "outputs": [],
   "source": [
    "sns.kdeplot(x=\"SalePrice\", fill=True, color=\"r\", data=df) # Plot a kdeplot for the SalePrice column. Here, we set fill=True to fill the area under the curve, \n",
    "# and color=\"r\" to set the color of the curve to red. You can play around with both and see which you prefer the most!\n",
    "\n",
    "# UNCOMMENT the following line to plot a histplot for the SalePrice column\n",
    "#sns.histplot(x=\"SalePrice\", kde=False, color=\"r\", data=df) # Plot a histplot for the SalePrice column, we can see a similar distribution to the kdeplot above, \n",
    "# but this time, we have bins! You can also set kde=True to see the kdeplot on top of the histplot, or again, play around with the color!"
   ]
  },
  {
   "cell_type": "markdown",
   "metadata": {},
   "source": [
    "We can see that the most common price point is around 160k, but let's move onto some more interesting plots.\n",
    "\n",
    "Now some useful plots will be these, showing you distributions across 2 numerical variables!"
   ]
  },
  {
   "cell_type": "code",
   "execution_count": null,
   "metadata": {},
   "outputs": [],
   "source": [
    "sns.scatterplot(x=\"LotArea\", y=\"SalePrice\", data=df)  # Plot a scatterplot for the LotArea and SalePrice columns.\n",
    "\n",
    "# A lot of outliers are obstructing our view of the data, so let's create a plot without them!\n",
    "# We can do this by filtering the dataframe to only include rows where the LotArea is less than 20000\n",
    "# UNCOMMENT the following line and COMMENT OUT the first scatterplot to see the difference!\n",
    "#sns.scatterplot(x=\"LotArea\", y=\"SalePrice\", data=df[df[\"LotArea\"] < 20000])  # Plot a scatterplot for the LotArea and SalePrice columns, \n",
    "# but this time, filter the dataframe to only include rows where the LotArea is less than 20000"
   ]
  },
  {
   "cell_type": "markdown",
   "metadata": {},
   "source": [
    "We can see a very clear positive correlation across the two! We can visualize this trend with `regplot()` and see the trendline!"
   ]
  },
  {
   "cell_type": "code",
   "execution_count": null,
   "metadata": {},
   "outputs": [],
   "source": [
    "sns.regplot(x=\"LotArea\", y=\"SalePrice\", data=df[df[\"LotArea\"] < 20000])  # Plot a regplot for the LotArea and SalePrice columns,"
   ]
  },
  {
   "cell_type": "markdown",
   "metadata": {},
   "source": [
    "You can notice this line that appeared, that shows us the positive trend across LotArea and SalePrice. \n",
    "\n",
    "And if you would like to also see the individual distributions of these data, we have the jointplot()!"
   ]
  },
  {
   "cell_type": "code",
   "execution_count": null,
   "metadata": {},
   "outputs": [],
   "source": [
    "sns.jointplot(x=\"LotArea\", y=\"SalePrice\", kind=\"reg\", data=df[df[\"LotArea\"] < 20000])  # Plot a jointplot for the LotArea and SalePrice columns. \n",
    "# We set kind=\"reg\" to see a regression line on the plot, but you can also try different kinds to see different plots! \n",
    "# You can see the different kinds here: https://seaborn.pydata.org/generated/seaborn.jointplot.html"
   ]
  },
  {
   "cell_type": "markdown",
   "metadata": {},
   "source": [
    "Now that we have visualized both distributions across categorical plots and numerical plots, we can create new plots to see distributions across categorical plots and numerical plots at once!\n",
    "## Numerical and Categorical plots\n",
    "The amazing thing about `jointplot()` is, that along with what we visualized earlier, we can add one categorical variable to the mix!\n",
    "\n",
    "For that we just need to set the `hue` argument to the name of a categorical variable."
   ]
  },
  {
   "cell_type": "code",
   "execution_count": null,
   "metadata": {},
   "outputs": [],
   "source": [
    "sns.jointplot(x=\"LotArea\", y=\"SalePrice\", hue=\"CentralAir\" , data=df[df[\"LotArea\"] < 20000])  # Plot a jointplot for the LotArea and SalePrice columns. \n"
   ]
  },
  {
   "cell_type": "markdown",
   "metadata": {},
   "source": [
    "We can see, that properties without any air conditioning tend to sell for less, are much more infrequent and that it doesn't impact LotArea significantly.\n",
    "\n",
    "However, with the categorical variable added, we can't see the regression lines in the jointplot. For that, we need to use the `lmplot()`!"
   ]
  },
  {
   "cell_type": "code",
   "execution_count": null,
   "metadata": {},
   "outputs": [],
   "source": [
    "sns.lmplot(x=\"LotArea\", y=\"SalePrice\", hue=\"CentralAir\", data=df[df[\"LotArea\"] < 20000])  # Plot a lmplot for the LotArea and SalePrice columns."
   ]
  },
  {
   "cell_type": "markdown",
   "metadata": {},
   "source": [
    "We can see that a similar trend with SalePrice follows with both air conditioning and no air conditioning.\n",
    "\n",
    "But perhaps, you may want to simply visualize one numerical and one categorical variable for simplicity's sake\n",
    "\n",
    "Very basic plots for that are the `boxplot()` and `kdeplot(hue=\"CategoricalVariable\")`!"
   ]
  },
  {
   "cell_type": "code",
   "execution_count": null,
   "metadata": {},
   "outputs": [],
   "source": [
    "sns.boxplot(x=\"LandContour\", y=\"SalePrice\", data=df)  # Plot a boxplot for the LandContour and SalePrice columns.\n",
    "# We can see really well how the SalePrice is distributed for each LandContour, \n",
    "# but it doesn't paint the clearest picture about the distribution of LandContour. For that, we can use a kdeplot()!\n",
    "\n",
    "# UNCOMMENT the following line AND COMMENT OUT the boxplot to see the kdeplot!\n",
    "#sns.kdeplot(x=\"SalePrice\", hue=\"LandContour\", fill=True, data=df)  # Plot a kdeplot for the SalePrice column, but this time, split the data by the LandContour column"
   ]
  },
  {
   "cell_type": "markdown",
   "metadata": {},
   "source": [
    "But perhaps the `kdeplot()` may not be of the best to visualize this. \n",
    "\n",
    "Much better plots for this I like are the `swarmplot()` and `stripplot()`!"
   ]
  },
  {
   "cell_type": "code",
   "execution_count": null,
   "metadata": {},
   "outputs": [],
   "source": [
    "sns.swarmplot(x=\"LandContour\", y=\"SalePrice\", data=df)  # Plot a swarmplot for the LandContour and SalePrice columns."
   ]
  },
  {
   "cell_type": "markdown",
   "metadata": {},
   "source": [
    "We can see really well how frequent each category is, however, the `swarmplot()` can be quite computionally intensive. \n",
    "\n",
    "Luckily, there is the `stripplot()`, which does something really similar!"
   ]
  },
  {
   "cell_type": "code",
   "execution_count": null,
   "metadata": {},
   "outputs": [],
   "source": [
    "sns.stripplot(x=\"LandContour\", y=\"SalePrice\", data=df)  # Plot a stripplot for the LandContour and SalePrice columns."
   ]
  },
  {
   "cell_type": "markdown",
   "metadata": {},
   "source": [
    "And the beautiful thing about `swarmplot()` and `stripplot()` is, that we can again, set the `hue` parameter to another category plot, \n",
    "\n",
    "and we can visualize a distribution across two categorical variables and one numerical!"
   ]
  },
  {
   "cell_type": "code",
   "execution_count": null,
   "metadata": {},
   "outputs": [],
   "source": [
    "sns.swarmplot(x=\"LandContour\", y=\"SalePrice\", data=df, hue=\"OverallQual\")  # Plot a swarmplot for the LandContour and SalePrice columns, \n",
    "#but this time, split the data by the OverallQual column\n",
    "\n",
    "# UNCOMMENT the following line AND COMMENT OUT the swarmplot if you want to see the stripplot instead.\n",
    "#sns.stripplot(x=\"LandContour\", y=\"SalePrice\", data=df, hue=\"OverallQual\")  # Plot a stripplot for the LandContour and SalePrice columns,"
   ]
  },
  {
   "cell_type": "markdown",
   "metadata": {},
   "source": [
    "And so we can see that the higher the quality is of a property, the better it sells!\n",
    "\n",
    "And here we have it! We reached the end of this notebook! I hope this has been useful to you, and remember, this notebook is here to stay and you can always come back to it and refresh your memory!\n",
    "\n",
    "Also you can subscribe to my youtube channel at https://www.youtube.com/@martinfallow to never miss any new videos and notebooks I will release in the future!\n",
    "\n",
    "### And so, happy coding everyone!"
   ]
  }
 ],
 "metadata": {
  "kernelspec": {
   "display_name": "housing_prices_yt",
   "language": "python",
   "name": "python3"
  },
  "language_info": {
   "codemirror_mode": {
    "name": "ipython",
    "version": 3
   },
   "file_extension": ".py",
   "mimetype": "text/x-python",
   "name": "python",
   "nbconvert_exporter": "python",
   "pygments_lexer": "ipython3",
   "version": "3.10.13"
  }
 },
 "nbformat": 4,
 "nbformat_minor": 2
}
